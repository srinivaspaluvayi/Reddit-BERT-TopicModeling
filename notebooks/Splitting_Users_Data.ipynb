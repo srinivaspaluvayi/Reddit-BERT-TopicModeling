{
  "nbformat": 4,
  "nbformat_minor": 0,
  "metadata": {
    "colab": {
      "provenance": []
    },
    "kernelspec": {
      "name": "python3",
      "display_name": "Python 3"
    },
    "language_info": {
      "name": "python"
    }
  },
  "cells": [
    {
      "cell_type": "code",
      "source": [
        "!pip install ijson"
      ],
      "metadata": {
        "colab": {
          "base_uri": "https://localhost:8080/"
        },
        "id": "1TOGmAkZNvfV",
        "outputId": "16d1c290-7285-460a-e8d3-50d7036f9a71"
      },
      "execution_count": 23,
      "outputs": [
        {
          "output_type": "stream",
          "name": "stdout",
          "text": [
            "Requirement already satisfied: ijson in /usr/local/lib/python3.10/dist-packages (3.3.0)\n"
          ]
        }
      ]
    },
    {
      "cell_type": "code",
      "source": [
        "import json\n",
        "import ijson\n",
        "from google.colab import files  # Only needed if running in Google Colab"
      ],
      "metadata": {
        "id": "EIla4cBJ88le"
      },
      "execution_count": 24,
      "outputs": []
    },
    {
      "cell_type": "code",
      "source": [
        "def split_json(filename):\n",
        "    with open(filename, 'r', encoding='utf-8') as f:  # Add encoding for potential issues\n",
        "        # Use a prefix that targets the specific structure if known\n",
        "        # For example, if your file is a list of objects:\n",
        "        objects = ijson.items(f, 'item')\n",
        "        # If it's a dictionary with a key 'data' containing the list:\n",
        "        # objects = ijson.items(f, 'data.item')\n",
        "        batch = []\n",
        "        file_index = 0\n",
        "        output_prefix = '{0}_split_file'.format(filename)\n",
        "        batch_size = 10000\n",
        "        for obj in objects:\n",
        "            batch.append(obj)\n",
        "            # When batch size is met, write to a new file\n",
        "            if len(batch) >= batch_size:\n",
        "                with open(f\"{output_prefix}_{file_index}.json\", 'w', encoding='utf-8') as outfile: # Add encoding here too\n",
        "                    json.dump(batch, outfile, ensure_ascii=False, indent=2)  # Ensure proper encoding and formatting\n",
        "                batch = []\n",
        "                file_index += 1\n",
        "\n",
        "        # Write remaining data if any\n",
        "        if batch:\n",
        "            with open(f\"{output_prefix}_{file_index}.json\", 'w', encoding='utf-8') as outfile: # Add encoding here too\n",
        "                json.dump(batch, outfile, ensure_ascii=False, indent=2)  # Ensure proper encoding and formatting\n",
        "        return file_index + 1"
      ],
      "metadata": {
        "id": "-yTCnTNXO69k",
        "collapsed": true
      },
      "execution_count": 25,
      "outputs": []
    },
    {
      "cell_type": "code",
      "source": [
        "def addControversialUsersComments(file, count, controversial_user_comments):\n",
        "  for i in range(count):\n",
        "    with open(f'{file}_split_file_{i}.json', 'r') as json_file:\n",
        "      batch = json.load(json_file)\n",
        "      for comment in batch:\n",
        "        if comment['controversial']==1:\n",
        "          controversial_user_comments.append(comment)"
      ],
      "metadata": {
        "id": "tGC9VSW39e1D"
      },
      "execution_count": 26,
      "outputs": []
    },
    {
      "cell_type": "code",
      "source": [
        "UserComments_files = ['2023_8.json', '2023_9.json', '2023_10.json', '2023_11.json']\n",
        "controversial_user_comments = list()\n",
        "\n",
        "for file in UserComments_files:\n",
        "\n",
        "  print(f'Splitting {file}')\n",
        "  filesCount = split_json(file)\n",
        "\n",
        "  print(f'Files created: {filesCount}')\n",
        "  for i in range(filesCount):\n",
        "    files.download(f'{file}_split_file_{i}.json')\n",
        "\n",
        "  addControversialUsersComments(file, filesCount, controversial_user_comments)\n",
        "  print(f'Controversial users comments: {len(controversial_user_comments)}')"
      ],
      "metadata": {
        "id": "5pXNj9Wx7tj8"
      },
      "execution_count": null,
      "outputs": []
    },
    {
      "cell_type": "code",
      "source": [
        "with open(f'controversial_users_comments.json', 'w') as json_file:\n",
        "        json.dump(controversial_user_comments, json_file)"
      ],
      "metadata": {
        "id": "Ehh7Te5RHYMG"
      },
      "execution_count": 28,
      "outputs": []
    }
  ]
}